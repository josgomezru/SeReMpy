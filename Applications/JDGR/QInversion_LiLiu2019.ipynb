{
 "cells": [
  {
   "cell_type": "code",
   "execution_count": 1,
   "id": "544510ce-b9fa-435f-96d0-45a4b995ed4f",
   "metadata": {},
   "outputs": [
    {
     "data": {
      "text/plain": [
       "'\\nCreated on Sun Feb 23 06:55:11 2025\\n\\n@author: josgomezru modified from dariograna\\n\\nReference: Grana and de Figueiredo, 2021, SeReMpy - Equations 5 and 6\\n           Li and Liu, 2019, Equations 6 and 7\\n'"
      ]
     },
     "execution_count": 1,
     "metadata": {},
     "output_type": "execute_result"
    }
   ],
   "source": [
    "# -*- coding: utf-8 -*-\n",
    "\"\"\"\n",
    "Created on Sun Feb 23 06:55:11 2025\n",
    "\n",
    "@author: josgomezru modified from dariograna\n",
    "\n",
    "Reference: Grana and de Figueiredo, 2021, SeReMpy - Equations 5 and 6\n",
    "           Li and Liu, 2019, Equations 6 and 7\n",
    "\"\"\"\n",
    "\n",
    "# Geostatistical Petrophysical inversion Driver %%\n",
    "# In this script we apply the Ensenmble petrophysical inversion method\n",
    "# (Liu and Grana, 2018) to predict the petrophysical properties \n",
    "# from seismic data."
   ]
  },
  {
   "cell_type": "code",
   "execution_count": 14,
   "id": "4dc17b46-593e-49fa-a314-9ccfaa54b180",
   "metadata": {},
   "outputs": [],
   "source": [
    "#Load library\n",
    "import sys\n",
    "sys.path.append('/workspaces/SeReMpy/Applications')\n",
    "sys.path.append('/workspaces/SeReMpy/Data')"
   ]
  },
  {
   "cell_type": "code",
   "execution_count": 15,
   "id": "4fc1b3e7-b34d-4924-bcb6-40dca36a9a2a",
   "metadata": {},
   "outputs": [],
   "source": [
    "from scipy.io import loadmat\n",
    "import matplotlib.pyplot as plt\n",
    "from scipy import signal\n",
    "import numpy as np\n",
    "from numpy import matlib\n",
    "\n",
    "from context import SeReMpy\n",
    "from SeReMpy.Inversion import *"
   ]
  },
  {
   "cell_type": "code",
   "execution_count": 16,
   "id": "805b3216-574b-4538-86e8-5e227fc1e1b6",
   "metadata": {},
   "outputs": [],
   "source": [
    "#% Application4\n",
    "# Load data (seismic data and time)\n",
    "x = np.loadtxt('/workspaces/SeReMpy/Data/1Ddatalog.dat')\n",
    "Rho = x[:,4].reshape(-1, 1)\n",
    "Time = x[:,6].reshape(-1, 1)\n",
    "Vp = x[:,7].reshape(-1, 1)\n",
    "Vs = x[:,8].reshape(-1, 1)\n",
    "s= np.loadtxt('/workspaces/SeReMpy/Data/1Ddataseis.dat')\n",
    "Sfar = s[:,0].reshape(-1, 1)\n",
    "Smid = s[:,1].reshape(-1, 1)\n",
    "Snear = s[:,2].reshape(-1, 1)\n",
    "TimeSeis = s[:,3].reshape(-1, 1)"
   ]
  },
  {
   "cell_type": "code",
   "execution_count": 21,
   "id": "764ca807-c29c-4307-9e3e-5452a88c97e2",
   "metadata": {},
   "outputs": [],
   "source": [
    "#% Initial parameters\n",
    "#Vs_bar_omega means average Vs across the interface.\n",
    "#delta_rho is the difference of rho across the interface.\n",
    "#gamma = Vs_bar_omega / Vp_bar_omega\n",
    "#rRho = delta_rho / rho_bar\n",
    "#rXip = delta_xip / xip_bar\n",
    "#rXis = delta_xis / xis_bar"
   ]
  },
  {
   "cell_type": "code",
   "execution_count": 22,
   "id": "c2e3e43c-734e-4b4a-b933-af4fbe298bc4",
   "metadata": {},
   "outputs": [],
   "source": [
    "def c_theta(gamma, theta):\n",
    "    return 0.5 * (1 - 4 * gamma**2 * np.sin(theta)**2)\n",
    "\n",
    "def d_theta_omega(theta, omega):\n",
    "    return -0.5 * np.pi * (1 + np.tan(theta)**2) * np.log(omega_r / omega)\n",
    "\n",
    "def e_theta_omega(theta, omega, gamma):\n",
    "    return 4 * gamma / np.pi * np.sin(theta)**2 * np.log(omega_r / omega)\n",
    "\n",
    "def R(theta, omega, gamma):\n",
    "    return c_theta(gamma, theta) * rRho + d_theta_omega(theta, omega) * rXip + e_theta_omega(theta, omega, gamma) * rXis"
   ]
  },
  {
   "cell_type": "code",
   "execution_count": null,
   "id": "cfa8812f-f761-4eb8-b9ac-250eeac22540",
   "metadata": {},
   "outputs": [],
   "source": []
  }
 ],
 "metadata": {
  "kernelspec": {
   "display_name": "Python 3 (ipykernel)",
   "language": "python",
   "name": "python3"
  },
  "language_info": {
   "codemirror_mode": {
    "name": "ipython",
    "version": 3
   },
   "file_extension": ".py",
   "mimetype": "text/x-python",
   "name": "python",
   "nbconvert_exporter": "python",
   "pygments_lexer": "ipython3",
   "version": "3.12.1"
  }
 },
 "nbformat": 4,
 "nbformat_minor": 5
}
