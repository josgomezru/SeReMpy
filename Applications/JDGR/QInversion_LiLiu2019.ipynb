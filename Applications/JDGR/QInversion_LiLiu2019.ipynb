{
 "cells": [
  {
   "cell_type": "code",
   "execution_count": 50,
   "id": "544510ce-b9fa-435f-96d0-45a4b995ed4f",
   "metadata": {
    "scrolled": true
   },
   "outputs": [
    {
     "data": {
      "text/plain": [
       "'\\nCreated on Sun Feb 23 06:55:11 2025\\n\\n@author: josgomezru modified from dariograna\\n\\nReference: Grana and de Figueiredo, 2021, SeReMpy - Equations 5 and 6\\n           Li and Liu, 2019, Equations 6 and 7\\n'"
      ]
     },
     "execution_count": 50,
     "metadata": {},
     "output_type": "execute_result"
    }
   ],
   "source": [
    "# -*- coding: utf-8 -*-\n",
    "\"\"\"\n",
    "Created on Sun Feb 23 06:55:11 2025\n",
    "\n",
    "@author: josgomezru modified from dariograna\n",
    "\n",
    "Reference: Grana and de Figueiredo, 2021, SeReMpy - Equations 5 and 6\n",
    "           Li and Liu, 2019, Equations 6 and 7\n",
    "\"\"\"\n",
    "\n",
    "# Geostatistical Petrophysical inversion Driver %%\n",
    "# In this script we apply the Ensenmble petrophysical inversion method\n",
    "# (Liu and Grana, 2018) to predict the petrophysical properties \n",
    "# from seismic data."
   ]
  },
  {
   "cell_type": "code",
   "execution_count": 51,
   "id": "4dc17b46-593e-49fa-a314-9ccfaa54b180",
   "metadata": {},
   "outputs": [],
   "source": [
    "#Load library\n",
    "import sys\n",
    "sys.path.append('/workspaces/SeReMpy/Applications')\n",
    "sys.path.append('/workspaces/SeReMpy/Data')"
   ]
  },
  {
   "cell_type": "code",
   "execution_count": 52,
   "id": "4fc1b3e7-b34d-4924-bcb6-40dca36a9a2a",
   "metadata": {},
   "outputs": [],
   "source": [
    "from scipy.io import loadmat\n",
    "import matplotlib.pyplot as plt\n",
    "from scipy import signal\n",
    "import numpy as np\n",
    "from numpy import matlib\n",
    "\n",
    "#from context import SeReMpy\n",
    "#from SeReMpy.Inversion import *"
   ]
  },
  {
   "cell_type": "code",
   "execution_count": 53,
   "id": "f4fd2d81-6735-42b9-bd11-e35d556f3b20",
   "metadata": {},
   "outputs": [],
   "source": [
    "# Función para la aproximación AVA relacionada con los factores Q\n",
    "def ava_approximation(theta, vp, vs, rho, qp, qs, freq, freq_ref):\n",
    "    a_theta = 0.5 * (1 + np.tan(np.radians(theta))**2)\n",
    "    b_theta = -4 * (vs/vp)**2 * np.sin(np.radians(theta))**2\n",
    "    c_theta = 0.5 * (1 - 4 * (vs/vp)**2 * np.sin(np.radians(theta))**2)\n",
    "    d_theta = 0.5 * (1 + np.tan(np.radians(theta))**2) * (1/np.pi) * np.log(freq_ref/freq)\n",
    "    e_theta = -4 * (vs/vp)**2 * np.sin(np.radians(theta))**2 * (1/np.pi) * np.log(freq_ref/freq)\n",
    "    \n",
    "    r_pp = a_theta * vp + b_theta * vs + c_theta * rho + d_theta * qp + e_theta * qs\n",
    "    return r_pp\n",
    "\n",
    "# Función de inversión para los factores Q\n",
    "def invert_q_factors(seismic_data, theta, vp, vs, rho, freq, freq_ref):\n",
    "    # Inicializar los factores Q\n",
    "    qp = 10.76 * vp**2 #np.ones_like(vp) * 100  # Suposición inicial para Qp\n",
    "    qs = 10.76 * vs**2 #np.ones_like(vs) * 50   # Suposición inicial para Qs\n",
    "    \n",
    "    # Proceso iterativo de inversión\n",
    "    for iteration in range(10):  # Número de iteraciones\n",
    "        r_pp = ava_approximation(theta, vp, vs, rho, qp, qs, freq, freq_ref)\n",
    "        r_pp = np.tile(r_pp, (seismic_data.shape[0] // r_pp.shape[0], 1))  # Ajustar dimensiones\n",
    "        residuals = seismic_data[:r_pp.shape[0], :] - r_pp\n",
    "        \n",
    "        # Actualizar los factores Q basados en los residuos\n",
    "        qp += 0.1 * residuals[:, 0]\n",
    "        qs += 0.05 * residuals[:, 0]\n",
    "    \n",
    "    return qp, qs"
   ]
  },
  {
   "cell_type": "code",
   "execution_count": 54,
   "id": "28fa005f-27a3-462a-a165-be4685b26458",
   "metadata": {},
   "outputs": [],
   "source": [
    "# Cargar datos (seismic data and time)\n",
    "x = np.loadtxt('/workspaces/SeReMpy/Data/1Ddatalog.dat')\n",
    "Rho = x[:,4].reshape(-1, 1)\n",
    "Time = x[:,6].reshape(-1, 1)\n",
    "Vp = x[:,7].reshape(-1, 1)\n",
    "Vs = x[:,8].reshape(-1, 1)\n",
    "s= np.loadtxt('/workspaces/SeReMpy/Data/1Ddataseis.dat')\n",
    "Sfar = s[:,0].reshape(-1, 1)\n",
    "Smid = s[:,1].reshape(-1, 1)\n",
    "Snear = s[:,2].reshape(-1, 1)\n",
    "TimeSeis = s[:,3].reshape(-1, 1)"
   ]
  },
  {
   "cell_type": "code",
   "execution_count": 56,
   "id": "0d01f3f8-ff50-4e0c-b28c-489665c7b3eb",
   "metadata": {},
   "outputs": [],
   "source": [
    "# Parámetros iniciales\n",
    "theta = np.linspace(15, 45, 3)\n",
    "freq = 45\n",
    "freq_ref = 25"
   ]
  },
  {
   "cell_type": "code",
   "execution_count": 57,
   "id": "a3c692c0-2d34-4d5b-bfb5-b59273924cfc",
   "metadata": {},
   "outputs": [
    {
     "ename": "ValueError",
     "evalue": "non-broadcastable output operand with shape (99,1) doesn't match the broadcast shape (99,0)",
     "output_type": "error",
     "traceback": [
      "\u001b[0;31m---------------------------------------------------------------------------\u001b[0m",
      "\u001b[0;31mValueError\u001b[0m                                Traceback (most recent call last)",
      "Cell \u001b[0;32mIn[57], line 3\u001b[0m\n\u001b[1;32m      1\u001b[0m \u001b[38;5;66;03m# Inversión de factores Q\u001b[39;00m\n\u001b[1;32m      2\u001b[0m seismic_data \u001b[38;5;241m=\u001b[39m np\u001b[38;5;241m.\u001b[39mhstack([Snear, Smid, Sfar])\n\u001b[0;32m----> 3\u001b[0m qp_inverted, qs_inverted \u001b[38;5;241m=\u001b[39m \u001b[43minvert_q_factors\u001b[49m\u001b[43m(\u001b[49m\u001b[43mseismic_data\u001b[49m\u001b[43m,\u001b[49m\u001b[43m \u001b[49m\u001b[43mtheta\u001b[49m\u001b[43m,\u001b[49m\u001b[43m \u001b[49m\u001b[43mVp\u001b[49m\u001b[43m,\u001b[49m\u001b[43m \u001b[49m\u001b[43mVs\u001b[49m\u001b[43m,\u001b[49m\u001b[43m \u001b[49m\u001b[43mRho\u001b[49m\u001b[43m,\u001b[49m\u001b[43m \u001b[49m\u001b[43mfreq\u001b[49m\u001b[43m,\u001b[49m\u001b[43m \u001b[49m\u001b[43mfreq_ref\u001b[49m\u001b[43m)\u001b[49m\n",
      "Cell \u001b[0;32mIn[53], line 25\u001b[0m, in \u001b[0;36minvert_q_factors\u001b[0;34m(seismic_data, theta, vp, vs, rho, freq, freq_ref)\u001b[0m\n\u001b[1;32m     22\u001b[0m     residuals \u001b[38;5;241m=\u001b[39m seismic_data[:r_pp\u001b[38;5;241m.\u001b[39mshape[\u001b[38;5;241m0\u001b[39m], :] \u001b[38;5;241m-\u001b[39m r_pp\n\u001b[1;32m     24\u001b[0m     \u001b[38;5;66;03m# Actualizar los factores Q basados en los residuos\u001b[39;00m\n\u001b[0;32m---> 25\u001b[0m     \u001b[43mqp\u001b[49m\u001b[43m \u001b[49m\u001b[38;5;241;43m+\u001b[39;49m\u001b[38;5;241;43m=\u001b[39;49m\u001b[43m \u001b[49m\u001b[38;5;241;43m0.1\u001b[39;49m\u001b[43m \u001b[49m\u001b[38;5;241;43m*\u001b[39;49m\u001b[43m \u001b[49m\u001b[43mresiduals\u001b[49m\u001b[43m[\u001b[49m\u001b[43m:\u001b[49m\u001b[43m,\u001b[49m\u001b[43m \u001b[49m\u001b[38;5;241;43m0\u001b[39;49m\u001b[43m]\u001b[49m\n\u001b[1;32m     26\u001b[0m     qs \u001b[38;5;241m+\u001b[39m\u001b[38;5;241m=\u001b[39m \u001b[38;5;241m0.05\u001b[39m \u001b[38;5;241m*\u001b[39m residuals[:, \u001b[38;5;241m0\u001b[39m]\n\u001b[1;32m     28\u001b[0m \u001b[38;5;28;01mreturn\u001b[39;00m qp, qs\n",
      "\u001b[0;31mValueError\u001b[0m: non-broadcastable output operand with shape (99,1) doesn't match the broadcast shape (99,0)"
     ]
    }
   ],
   "source": [
    "# Inversión de factores Q\n",
    "seismic_data = np.hstack([Snear, Smid, Sfar])\n",
    "qp_inverted, qs_inverted = invert_q_factors(seismic_data, theta, Vp, Vs, Rho, freq, freq_ref)"
   ]
  },
  {
   "cell_type": "code",
   "execution_count": 45,
   "id": "52c0b678-b429-44aa-b312-2082d4bb30be",
   "metadata": {},
   "outputs": [
    {
     "ename": "NameError",
     "evalue": "name 'qp_inverted' is not defined",
     "output_type": "error",
     "traceback": [
      "\u001b[0;31m---------------------------------------------------------------------------\u001b[0m",
      "\u001b[0;31mNameError\u001b[0m                                 Traceback (most recent call last)",
      "Cell \u001b[0;32mIn[45], line 4\u001b[0m\n\u001b[1;32m      2\u001b[0m plt\u001b[38;5;241m.\u001b[39mfigure(figsize\u001b[38;5;241m=\u001b[39m(\u001b[38;5;241m12\u001b[39m, \u001b[38;5;241m6\u001b[39m))\n\u001b[1;32m      3\u001b[0m plt\u001b[38;5;241m.\u001b[39msubplot(\u001b[38;5;241m1\u001b[39m, \u001b[38;5;241m2\u001b[39m, \u001b[38;5;241m1\u001b[39m)\n\u001b[0;32m----> 4\u001b[0m plt\u001b[38;5;241m.\u001b[39mplot(\u001b[43mqp_inverted\u001b[49m, Time, \u001b[38;5;124m'\u001b[39m\u001b[38;5;124mr\u001b[39m\u001b[38;5;124m'\u001b[39m, label\u001b[38;5;241m=\u001b[39m\u001b[38;5;124m'\u001b[39m\u001b[38;5;124mQp Invertido\u001b[39m\u001b[38;5;124m'\u001b[39m)\n\u001b[1;32m      5\u001b[0m plt\u001b[38;5;241m.\u001b[39mxlabel(\u001b[38;5;124m'\u001b[39m\u001b[38;5;124mQp\u001b[39m\u001b[38;5;124m'\u001b[39m)\n\u001b[1;32m      6\u001b[0m plt\u001b[38;5;241m.\u001b[39mylabel(\u001b[38;5;124m'\u001b[39m\u001b[38;5;124mTime (s)\u001b[39m\u001b[38;5;124m'\u001b[39m)\n",
      "\u001b[0;31mNameError\u001b[0m: name 'qp_inverted' is not defined"
     ]
    },
    {
     "data": {
      "image/png": "[encoded data removed]",
      "text/plain": [
       "<Figure size 1200x600 with 1 Axes>"
      ]
     },
     "metadata": {},
     "output_type": "display_data"
    }
   ],
   "source": [
    "# Graficar resultados\n",
    "plt.figure(figsize=(12, 6))\n",
    "plt.subplot(1, 2, 1)\n",
    "plt.plot(qp_inverted, Time, 'r', label='Qp Invertido')\n",
    "plt.xlabel('Qp')\n",
    "plt.ylabel('Time (s)')\n",
    "plt.legend()\n",
    "plt.grid()\n",
    "\n",
    "plt.subplot(1, 2, 2)\n",
    "plt.plot(qs_inverted, Time, 'b', label='Qs Invertido')\n",
    "plt.xlabel('Qs')\n",
    "plt.legend()\n",
    "plt.grid()\n",
    "\n",
    "plt.tight_layout()\n",
    "plt.show()"
   ]
  },
  {
   "cell_type": "code",
   "execution_count": null,
   "id": "8a14146b-db79-4c15-8f80-ceb368e51707",
   "metadata": {},
   "outputs": [],
   "source": []
  }
 ],
 "metadata": {
  "kernelspec": {
   "display_name": "Python 3 (ipykernel)",
   "language": "python",
   "name": "python3"
  },
  "language_info": {
   "codemirror_mode": {
    "name": "ipython",
    "version": 3
   },
   "file_extension": ".py",
   "mimetype": "text/x-python",
   "name": "python",
   "nbconvert_exporter": "python",
   "pygments_lexer": "ipython3",
   "version": "3.12.1"
  }
 },
 "nbformat": 4,
 "nbformat_minor": 5
}
